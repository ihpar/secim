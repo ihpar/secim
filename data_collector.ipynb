{
 "cells": [
  {
   "cell_type": "code",
   "execution_count": 1,
   "metadata": {},
   "outputs": [],
   "source": [
    "import snscrape.modules.twitter as sntwitter\n",
    "import json"
   ]
  },
  {
   "cell_type": "code",
   "execution_count": 2,
   "metadata": {},
   "outputs": [],
   "source": [
    "twitter_accounts = {\n",
    "    \"Recep Tayyip Erdoğan\": \"RTErdogan\",\n",
    "    \"Kemal Kılıçdaroğlu\": \"kilicdarogluk\",\n",
    "    \"Muharrem İnce\": \"vekilince\",\n",
    "    \"Sinan Oğan\": \"DrSinanOgan\"\n",
    "}"
   ]
  },
  {
   "cell_type": "code",
   "execution_count": 3,
   "metadata": {},
   "outputs": [],
   "source": [
    "# start_date = \"2023-03-11\"\n",
    "start_date = \"2023-05-13\""
   ]
  },
  {
   "cell_type": "code",
   "execution_count": 4,
   "metadata": {},
   "outputs": [
    {
     "name": "stdout",
     "output_type": "stream",
     "text": [
      "Collecting tweets for Recep Tayyip Erdoğan\n"
     ]
    },
    {
     "name": "stderr",
     "output_type": "stream",
     "text": [
      "Stopping after 250 empty pages\n"
     ]
    },
    {
     "name": "stdout",
     "output_type": "stream",
     "text": [
      "Collecting tweets for Kemal Kılıçdaroğlu\n"
     ]
    },
    {
     "name": "stderr",
     "output_type": "stream",
     "text": [
      "Stopping after 250 empty pages\n"
     ]
    },
    {
     "name": "stdout",
     "output_type": "stream",
     "text": [
      "Collecting tweets for Muharrem İnce\n"
     ]
    },
    {
     "name": "stderr",
     "output_type": "stream",
     "text": [
      "Stopping after 250 empty pages\n"
     ]
    },
    {
     "name": "stdout",
     "output_type": "stream",
     "text": [
      "Collecting tweets for Sinan Oğan\n"
     ]
    },
    {
     "name": "stderr",
     "output_type": "stream",
     "text": [
      "Stopping after 250 empty pages\n"
     ]
    }
   ],
   "source": [
    "# starts 10 Nisan 00:17\n",
    "\n",
    "collected_tweets = {}\n",
    "for name, account in twitter_accounts.items():\n",
    "    print(f\"Collecting tweets for {name}\")\n",
    "    collected_tweets[name] = []\n",
    "\n",
    "    for i, tweet in enumerate(sntwitter.TwitterSearchScraper(f\"from:{account} since:{start_date}\", maxEmptyPages=250).get_items()):\n",
    "        try:\n",
    "            collected_tweets[name].append({\n",
    "                \"id\": tweet.id,\n",
    "                \"date\": tweet.date.timestamp(),\n",
    "                \"rawContent\": tweet.rawContent,\n",
    "                \"replyCount\": tweet.replyCount,\n",
    "                \"retweetCount\": tweet.retweetCount,\n",
    "                \"likeCount\": tweet.likeCount,\n",
    "                \"quoteCount\": tweet.quoteCount\n",
    "            })\n",
    "        except:\n",
    "            print(f\"Err on {name}, {i}\")"
   ]
  },
  {
   "cell_type": "code",
   "execution_count": 5,
   "metadata": {},
   "outputs": [],
   "source": [
    "with open(f\"data/tweets_second.json\", \"w\") as out_file:\n",
    "    json.dump(collected_tweets, out_file, indent=4, ensure_ascii=False)"
   ]
  },
  {
   "cell_type": "code",
   "execution_count": 6,
   "metadata": {},
   "outputs": [
    {
     "name": "stdout",
     "output_type": "stream",
     "text": [
      "Recep Tayyip Erdoğan 90\n",
      "Kemal Kılıçdaroğlu 69\n",
      "Muharrem İnce 18\n",
      "Sinan Oğan 64\n",
      "Total tweets: 241\n"
     ]
    }
   ],
   "source": [
    "total_tweets = 0\n",
    "for name, tweets in collected_tweets.items():\n",
    "    print(name, len(tweets))\n",
    "    total_tweets += len(tweets)\n",
    "\n",
    "print(f\"Total tweets: {total_tweets}\")"
   ]
  },
  {
   "cell_type": "code",
   "execution_count": null,
   "metadata": {},
   "outputs": [],
   "source": []
  }
 ],
 "metadata": {
  "kernelspec": {
   "display_name": "tfnew",
   "language": "python",
   "name": "python3"
  },
  "language_info": {
   "codemirror_mode": {
    "name": "ipython",
    "version": 3
   },
   "file_extension": ".py",
   "mimetype": "text/x-python",
   "name": "python",
   "nbconvert_exporter": "python",
   "pygments_lexer": "ipython3",
   "version": "3.9.16"
  },
  "orig_nbformat": 4
 },
 "nbformat": 4,
 "nbformat_minor": 2
}
