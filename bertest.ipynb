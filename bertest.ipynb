{
 "cells": [
  {
   "cell_type": "code",
   "execution_count": 1,
   "metadata": {},
   "outputs": [
    {
     "name": "stderr",
     "output_type": "stream",
     "text": [
      "/Users/ihp/opt/miniconda3/envs/tfnew/lib/python3.9/site-packages/umap/distances.py:1063: NumbaDeprecationWarning: \u001b[1mThe 'nopython' keyword argument was not supplied to the 'numba.jit' decorator. The implicit default value for this argument is currently False, but it will be changed to True in Numba 0.59.0. See https://numba.readthedocs.io/en/stable/reference/deprecation.html#deprecation-of-object-mode-fall-back-behaviour-when-using-jit for details.\u001b[0m\n",
      "  @numba.jit()\n",
      "/Users/ihp/opt/miniconda3/envs/tfnew/lib/python3.9/site-packages/umap/distances.py:1071: NumbaDeprecationWarning: \u001b[1mThe 'nopython' keyword argument was not supplied to the 'numba.jit' decorator. The implicit default value for this argument is currently False, but it will be changed to True in Numba 0.59.0. See https://numba.readthedocs.io/en/stable/reference/deprecation.html#deprecation-of-object-mode-fall-back-behaviour-when-using-jit for details.\u001b[0m\n",
      "  @numba.jit()\n",
      "/Users/ihp/opt/miniconda3/envs/tfnew/lib/python3.9/site-packages/umap/distances.py:1086: NumbaDeprecationWarning: \u001b[1mThe 'nopython' keyword argument was not supplied to the 'numba.jit' decorator. The implicit default value for this argument is currently False, but it will be changed to True in Numba 0.59.0. See https://numba.readthedocs.io/en/stable/reference/deprecation.html#deprecation-of-object-mode-fall-back-behaviour-when-using-jit for details.\u001b[0m\n",
      "  @numba.jit()\n",
      "/Users/ihp/opt/miniconda3/envs/tfnew/lib/python3.9/site-packages/umap/umap_.py:660: NumbaDeprecationWarning: \u001b[1mThe 'nopython' keyword argument was not supplied to the 'numba.jit' decorator. The implicit default value for this argument is currently False, but it will be changed to True in Numba 0.59.0. See https://numba.readthedocs.io/en/stable/reference/deprecation.html#deprecation-of-object-mode-fall-back-behaviour-when-using-jit for details.\u001b[0m\n",
      "  @numba.jit()\n"
     ]
    }
   ],
   "source": [
    "from bertopic import BERTopic\n",
    "from sklearn.datasets import fetch_20newsgroups\n"
   ]
  },
  {
   "cell_type": "code",
   "execution_count": 2,
   "metadata": {},
   "outputs": [],
   "source": [
    "data = fetch_20newsgroups(subset='all',  remove=('headers', 'footers', 'quotes'))\n",
    "docs = data[\"data\"]\n",
    "targets = data[\"target\"]\n",
    "target_names = data[\"target_names\"]\n",
    "classes = [data[\"target_names\"][i] for i in data[\"target\"]]"
   ]
  },
  {
   "cell_type": "code",
   "execution_count": 27,
   "metadata": {},
   "outputs": [
    {
     "data": {
      "text/plain": [
       "18846"
      ]
     },
     "execution_count": 27,
     "metadata": {},
     "output_type": "execute_result"
    }
   ],
   "source": [
    "len(classes)"
   ]
  },
  {
   "cell_type": "code",
   "execution_count": 28,
   "metadata": {},
   "outputs": [
    {
     "data": {
      "text/plain": [
       "18846"
      ]
     },
     "execution_count": 28,
     "metadata": {},
     "output_type": "execute_result"
    }
   ],
   "source": [
    "len(docs)"
   ]
  },
  {
   "cell_type": "code",
   "execution_count": 29,
   "metadata": {},
   "outputs": [
    {
     "data": {
      "text/plain": [
       "['rec.sport.hockey',\n",
       " 'comp.sys.ibm.pc.hardware',\n",
       " 'talk.politics.mideast',\n",
       " 'comp.sys.ibm.pc.hardware',\n",
       " 'comp.sys.mac.hardware',\n",
       " 'sci.electronics',\n",
       " 'comp.sys.mac.hardware',\n",
       " 'rec.sport.hockey',\n",
       " 'rec.sport.hockey',\n",
       " 'talk.religion.misc',\n",
       " 'talk.religion.misc',\n",
       " 'sci.crypt',\n",
       " 'talk.religion.misc',\n",
       " 'sci.med',\n",
       " 'alt.atheism',\n",
       " 'talk.politics.mideast',\n",
       " 'sci.electronics',\n",
       " 'sci.electronics',\n",
       " 'sci.crypt',\n",
       " 'rec.motorcycles']"
      ]
     },
     "execution_count": 29,
     "metadata": {},
     "output_type": "execute_result"
    }
   ],
   "source": [
    "classes[:20]"
   ]
  },
  {
   "cell_type": "code",
   "execution_count": 4,
   "metadata": {},
   "outputs": [
    {
     "data": {
      "text/plain": [
       "[\"\\n\\nI am sure some bashers of Pens fans are pretty confused about the lack\\nof any kind of posts about the recent Pens massacre of the Devils. Actually,\\nI am  bit puzzled too and a bit relieved. However, I am going to put an end\\nto non-PIttsburghers' relief with a bit of praise for the Pens. Man, they\\nare killing those Devils worse than I thought. Jagr just showed you why\\nhe is much better than his regular season stats. He is also a lot\\nfo fun to watch in the playoffs. Bowman should let JAgr have a lot of\\nfun in the next couple of games since the Pens are going to beat the pulp out of Jersey anyway. I was very disappointed not to see the Islanders lose the final\\nregular season game.          PENS RULE!!!\\n\\n\",\n",
       " 'My brother is in the market for a high-performance video card that supports\\nVESA local bus with 1-2MB RAM.  Does anyone have suggestions/ideas on:\\n\\n  - Diamond Stealth Pro Local Bus\\n\\n  - Orchid Farenheit 1280\\n\\n  - ATI Graphics Ultra Pro\\n\\n  - Any other high-performance VLB card\\n\\n\\nPlease post or email.  Thank you!\\n\\n  - Matt\\n',\n",
       " '\\n\\n\\n\\n\\tFinally you said what you dream about. Mediterranean???? That was new....\\n\\tThe area will be \"greater\" after some years, like your \"holocaust\" numbers......\\n\\n\\n\\n\\n\\t\\t*****\\n\\tIs\\'t July in USA now????? Here in Sweden it\\'s April and still cold.\\n\\tOr have you changed your calendar???\\n\\n\\n\\t\\t\\t\\t\\t\\t    ****************\\n\\t\\t\\t\\t\\t\\t    ******************\\n\\t\\t\\t    ***************\\n\\n\\n\\tNOTHING OF THE MENTIONED IS TRUE, BUT LET SAY IT\\'s TRUE.\\n\\t\\n\\tSHALL THE AZERI WOMEN AND CHILDREN GOING TO PAY THE PRICE WITH\\n\\t\\t\\t\\t\\t\\t    **************\\n\\tBEING RAPED, KILLED AND TORTURED BY THE ARMENIANS??????????\\n\\t\\n\\tHAVE YOU HEARDED SOMETHING CALLED: \"GENEVA CONVENTION\"???????\\n\\tYOU FACIST!!!!!\\n\\n\\n\\n\\tOhhh i forgot, this is how Armenians fight, nobody has forgot\\n\\tyou killings, rapings and torture against the Kurds and Turks once\\n\\tupon a time!\\n      \\n       \\n\\n\\nOhhhh so swedish RedCross workers do lie they too? What ever you say\\n\"regional killer\", if you don\\'t like the person then shoot him that\\'s your policy.....l\\n\\n\\n\\t\\t\\t\\t\\t\\t\\t\\t\\t\\ti\\n\\t\\t\\t\\t\\t\\t\\t\\t\\t\\ti\\n\\t\\t\\t\\t\\t\\t\\t\\t\\t\\ti\\n\\tConfused?????\\t\\t\\t\\t\\t\\t\\t\\ti\\n\\t\\t\\t\\t\\t\\t\\t\\t\\t\\ti\\n        Search Turkish planes? You don\\'t know what you are talking about.\\ti\\n        Turkey\\'s government has announced that it\\'s giving weapons  <-----------i\\n        to Azerbadjan since Armenia started to attack Azerbadjan\\t\\t\\n        it self, not the Karabag province. So why search a plane for weapons\\t\\n        since it\\'s content is announced to be weapons?   \\n\\n\\tIf there is one that\\'s confused then that\\'s you! We have the right (and we do)\\n\\tto give weapons to the Azeris, since Armenians started the fight in Azerbadjan!\\n \\n\\n\\n\\tShoot down with what? Armenian bread and butter? Or the arms and personel \\n\\tof the Russian army?\\n\\n\\n']"
      ]
     },
     "execution_count": 4,
     "metadata": {},
     "output_type": "execute_result"
    }
   ],
   "source": [
    "docs[:3]"
   ]
  },
  {
   "cell_type": "code",
   "execution_count": 5,
   "metadata": {},
   "outputs": [
    {
     "data": {
      "text/plain": [
       "array([10,  3, 17])"
      ]
     },
     "execution_count": 5,
     "metadata": {},
     "output_type": "execute_result"
    }
   ],
   "source": [
    "targets[:3]"
   ]
  },
  {
   "cell_type": "code",
   "execution_count": 14,
   "metadata": {},
   "outputs": [
    {
     "data": {
      "text/plain": [
       "['alt.atheism',\n",
       " 'comp.graphics',\n",
       " 'comp.os.ms-windows.misc',\n",
       " 'comp.sys.ibm.pc.hardware',\n",
       " 'comp.sys.mac.hardware',\n",
       " 'comp.windows.x',\n",
       " 'misc.forsale',\n",
       " 'rec.autos',\n",
       " 'rec.motorcycles',\n",
       " 'rec.sport.baseball',\n",
       " 'rec.sport.hockey',\n",
       " 'sci.crypt',\n",
       " 'sci.electronics',\n",
       " 'sci.med',\n",
       " 'sci.space',\n",
       " 'soc.religion.christian',\n",
       " 'talk.politics.guns',\n",
       " 'talk.politics.mideast',\n",
       " 'talk.politics.misc',\n",
       " 'talk.religion.misc']"
      ]
     },
     "execution_count": 14,
     "metadata": {},
     "output_type": "execute_result"
    }
   ],
   "source": [
    "target_names"
   ]
  },
  {
   "cell_type": "code",
   "execution_count": 22,
   "metadata": {},
   "outputs": [
    {
     "name": "stdout",
     "output_type": "stream",
     "text": [
      "In the following report: _Turkey Eyes Regional Role_ ANKARA, Turkey (AP)\n",
      "April 27, 1993, we find in the last paragraph:\n",
      "\n",
      "[Turanist] Although Premier Suleyman Demirel criticized Ozal's often\n",
      "[Turanist] brash calls for more Turkish influence, he also has spoken\n",
      "[Turanist] of a swath of Turkic peoples \"stretching from the Adriatic\n",
      "[Turanist] Sea to the Great Wall of China.\"\n",
      "\n",
      "Who does Demirel think he is fooling? It seems at both ends of his envisioned \n",
      "pan-Turkic Empire -- the Balkans and the Caucasus -- Turkey's fascist boasts\n",
      "are being pre-empted.\n",
      "\n",
      "I would suggest Turkey let the world feel some of their \"Grey Wolf Teeth\", and\n",
      "attempt to stretch from the Adriatic to China! Turkey will have cried \"wolf\"\n",
      "just once too much! \n",
      "\n",
      "\n",
      "\n",
      "Class:\n",
      "talk.politics.mideast\n"
     ]
    }
   ],
   "source": [
    "ix = 15\n",
    "print(docs[ix])\n",
    "print(\"\\nClass:\")\n",
    "print(target_names[targets[ix]])"
   ]
  },
  {
   "cell_type": "code",
   "execution_count": 23,
   "metadata": {},
   "outputs": [
    {
     "data": {
      "application/vnd.jupyter.widget-view+json": {
       "model_id": "17526dc8cfd346f3b3ba88646d488537",
       "version_major": 2,
       "version_minor": 0
      },
      "text/plain": [
       "Batches:   0%|          | 0/589 [00:00<?, ?it/s]"
      ]
     },
     "metadata": {},
     "output_type": "display_data"
    },
    {
     "name": "stderr",
     "output_type": "stream",
     "text": [
      "2023-05-19 12:33:44,770 - BERTopic - Transformed documents to Embeddings\n",
      "OMP: Info #276: omp_set_nested routine deprecated, please use omp_set_max_active_levels instead.\n",
      "2023-05-19 12:33:57,862 - BERTopic - Reduced dimensionality\n"
     ]
    },
    {
     "name": "stdout",
     "output_type": "stream",
     "text": [
      "huggingface/tokenizers: The current process just got forked, after parallelism has already been used. Disabling parallelism to avoid deadlocks...\n",
      "To disable this warning, you can either:\n",
      "\t- Avoid using `tokenizers` before the fork if possible\n",
      "\t- Explicitly set the environment variable TOKENIZERS_PARALLELISM=(true | false)\n",
      "huggingface/tokenizers: The current process just got forked, after parallelism has already been used. Disabling parallelism to avoid deadlocks...\n",
      "To disable this warning, you can either:\n",
      "\t- Avoid using `tokenizers` before the fork if possible\n",
      "\t- Explicitly set the environment variable TOKENIZERS_PARALLELISM=(true | false)\n",
      "huggingface/tokenizers: The current process just got forked, after parallelism has already been used. Disabling parallelism to avoid deadlocks...\n",
      "To disable this warning, you can either:\n",
      "\t- Avoid using `tokenizers` before the fork if possible\n",
      "\t- Explicitly set the environment variable TOKENIZERS_PARALLELISM=(true | false)\n",
      "huggingface/tokenizers: The current process just got forked, after parallelism has already been used. Disabling parallelism to avoid deadlocks...\n",
      "To disable this warning, you can either:\n",
      "\t- Avoid using `tokenizers` before the fork if possible\n",
      "\t- Explicitly set the environment variable TOKENIZERS_PARALLELISM=(true | false)\n",
      "huggingface/tokenizers: The current process just got forked, after parallelism has already been used. Disabling parallelism to avoid deadlocks...\n",
      "To disable this warning, you can either:\n",
      "\t- Avoid using `tokenizers` before the fork if possible\n",
      "\t- Explicitly set the environment variable TOKENIZERS_PARALLELISM=(true | false)\n"
     ]
    },
    {
     "name": "stderr",
     "output_type": "stream",
     "text": [
      "2023-05-19 12:33:58,925 - BERTopic - Clustered reduced embeddings\n"
     ]
    }
   ],
   "source": [
    "topic_model = BERTopic(verbose=True)\n",
    "topics, probs = topic_model.fit_transform(docs)"
   ]
  },
  {
   "cell_type": "code",
   "execution_count": 24,
   "metadata": {},
   "outputs": [
    {
     "name": "stderr",
     "output_type": "stream",
     "text": [
      "20it [00:02,  6.71it/s]\n"
     ]
    }
   ],
   "source": [
    "topics_per_class = topic_model.topics_per_class(docs, classes=classes)"
   ]
  },
  {
   "cell_type": "code",
   "execution_count": 26,
   "metadata": {},
   "outputs": [
    {
     "data": {
      "application/vnd.plotly.v1+json": {
       "config": {
        "plotlyServerURL": "https://plot.ly"
       },
       "data": [
        {
         "hoverinfo": "text",
         "hovertext": [
          "<b>Topic 0</b><br>Words: key, rulesregulationslaws, address123, namejoe, keyldslfoialsdkcdsngsikhsfd",
          "<b>Topic 0</b><br>Words: initiative, wiretapping, urge, wellknown, clintons",
          "<b>Topic 0</b><br>Words: remedy, pd, millions, networks, libraries",
          "<b>Topic 0</b><br>Words: ssn, whoa, smoking, foods, eh",
          "<b>Topic 0</b><br>Words: irs, traceable, buyback, secure, money",
          "<b>Topic 0</b><br>Words: publish, hovercraft, lockstickandbarel, intelliegence, scoriates",
          "<b>Topic 0</b><br>Words: key, clipper, encryption, chip, keys",
          "<b>Topic 0</b><br>Words: lterature, lloking, prizms, lsi, geos",
          "<b>Topic 0</b><br>Words: typos, hooks, greetings, al, clipper",
          "<b>Topic 0</b><br>Words: keys, mathew, broadcasting, impropriety, government",
          "<b>Topic 0</b><br>Words: monitoring, beijing, balkanmideast, tienanmien, encyrption",
          "<b>Topic 0</b><br>Words: kgbatf, cote, right, defending, followers"
         ],
         "marker": {
          "color": "#E69F00"
         },
         "name": "0_key_clipper_encryption_chip",
         "orientation": "h",
         "type": "bar",
         "visible": true,
         "x": [
          4,
          6,
          1,
          1,
          9,
          3,
          557,
          1,
          1,
          3,
          2,
          1
         ],
         "y": [
          "sci.electronics",
          "talk.politics.misc",
          "comp.os.ms-windows.misc",
          "sci.med",
          "talk.politics.guns",
          "sci.space",
          "sci.crypt",
          "rec.autos",
          "misc.forsale",
          "alt.atheism",
          "talk.politics.mideast",
          "talk.religion.misc"
         ]
        },
        {
         "hoverinfo": "text",
         "hovertext": [
          "<b>Topic 1</b><br>Words: sf, fans, versa, number, libertarians",
          "<b>Topic 1</b><br>Words: dominant, dominance, eye, cross, study",
          "<b>Topic 1</b><br>Words: mlb, defect, expos, linares, cubans",
          "<b>Topic 1</b><br>Words: hungry, polar, drew, mad, nearby",
          "<b>Topic 1</b><br>Words: philosopher, coke, influential, plato, 500",
          "<b>Topic 1</b><br>Words: year, game, he, hit, team",
          "<b>Topic 1</b><br>Words: prisoners, sections, stones, pitchers, ketziot"
         ],
         "marker": {
          "color": "#56B4E9"
         },
         "name": "1_year_game_he_hit",
         "orientation": "h",
         "type": "bar",
         "visible": "legendonly",
         "x": [
          2,
          1,
          4,
          2,
          4,
          570,
          3
         ],
         "y": [
          "talk.politics.misc",
          "sci.med",
          "rec.sport.hockey",
          "talk.politics.guns",
          "sci.space",
          "rec.sport.baseball",
          "talk.politics.mideast"
         ]
        },
        {
         "hoverinfo": "text",
         "hovertext": [
          "<b>Topic 2</b><br>Words: ites, cheek, yep, huh, ken",
          "<b>Topic 2</b><br>Words: yep, huh, ites, cheek, ken",
          "<b>Topic 2</b><br>Words: ites, cheek, yep, huh, ken",
          "<b>Topic 2</b><br>Words: ites, cheek, yep, huh, ken",
          "<b>Topic 2</b><br>Words: ites, cheek, yep, huh, ken",
          "<b>Topic 2</b><br>Words: ites, cheek, yep, huh, ken",
          "<b>Topic 2</b><br>Words: ites, cheek, yep, huh, ken",
          "<b>Topic 2</b><br>Words: ites, cheek, yep, huh, ken",
          "<b>Topic 2</b><br>Words: ites, cheek, yep, huh, ken",
          "<b>Topic 2</b><br>Words: ites, cheek, yep, huh, ken",
          "<b>Topic 2</b><br>Words: ites, cheek, yep, huh, ken",
          "<b>Topic 2</b><br>Words: why, ites, cheek, yep, huh",
          "<b>Topic 2</b><br>Words: ites, cheek, yep, huh, ken",
          "<b>Topic 2</b><br>Words: ites, cheek, yep, huh, ken",
          "<b>Topic 2</b><br>Words: ites, cheek, yep, huh, ken",
          "<b>Topic 2</b><br>Words: ken, ites, cheek, yep, huh",
          "<b>Topic 2</b><br>Words: ites, cheek, yep, huh, ken",
          "<b>Topic 2</b><br>Words: art, each, ites, cheek, yep",
          "<b>Topic 2</b><br>Words: ites, cheek, yep, huh, ken",
          "<b>Topic 2</b><br>Words: ites, cheek, yep, huh, ken"
         ],
         "marker": {
          "color": "#009E73"
         },
         "name": "2_ites_cheek_yep_huh",
         "orientation": "h",
         "type": "bar",
         "visible": "legendonly",
         "x": [
          26,
          29,
          18,
          18,
          19,
          38,
          30,
          24,
          22,
          24,
          32,
          38,
          6,
          29,
          55,
          17,
          20,
          36,
          21,
          23
         ],
         "y": [
          "sci.electronics",
          "rec.motorcycles",
          "comp.graphics",
          "comp.sys.ibm.pc.hardware",
          "talk.politics.misc",
          "comp.os.ms-windows.misc",
          "sci.med",
          "rec.sport.hockey",
          "soc.religion.christian",
          "talk.politics.guns",
          "sci.space",
          "rec.sport.baseball",
          "comp.windows.x",
          "sci.crypt",
          "rec.autos",
          "misc.forsale",
          "alt.atheism",
          "comp.sys.mac.hardware",
          "talk.politics.mideast",
          "talk.religion.misc"
         ]
        },
        {
         "hoverinfo": "text",
         "hovertext": [
          "<b>Topic 3</b><br>Words: intermediate, sockets, skip, bandwidth, hitler",
          "<b>Topic 3</b><br>Words: everybody, sources, knows, numbers, stuff",
          "<b>Topic 3</b><br>Words: hitler, antidefamation, nazis, israel, limbaugh",
          "<b>Topic 3</b><br>Words: skirmish, wasting, bandwidth, occurred, referring",
          "<b>Topic 3</b><br>Words: proselytism, jewish, jews, speak, temple",
          "<b>Topic 3</b><br>Words: nazi, dodd, law, gca, jpfo",
          "<b>Topic 3</b><br>Words: 617, 2671700, 2621915, staub, mutually",
          "<b>Topic 3</b><br>Words: jews, antisemitism, sightseeing, casual, israel",
          "<b>Topic 3</b><br>Words: israel, israeli, jews, arab, jewish",
          "<b>Topic 3</b><br>Words: peace, nazis, homosexuality, jews, israel"
         ],
         "marker": {
          "color": "#F0E442"
         },
         "name": "3_israel_israeli_jews_arab",
         "orientation": "h",
         "type": "bar",
         "visible": "legendonly",
         "x": [
          1,
          1,
          9,
          1,
          6,
          7,
          3,
          15,
          427,
          15
         ],
         "y": [
          "sci.electronics",
          "rec.motorcycles",
          "talk.politics.misc",
          "rec.sport.hockey",
          "soc.religion.christian",
          "talk.politics.guns",
          "rec.sport.baseball",
          "alt.atheism",
          "talk.politics.mideast",
          "talk.religion.misc"
         ]
        },
        {
         "hoverinfo": "text",
         "hovertext": [
          "<b>Topic 4</b><br>Words: butane, nontoxic, fire, extinguishers, tet",
          "<b>Topic 4</b><br>Words: doom, catch, kreme, inflicting, department",
          "<b>Topic 4</b><br>Words: batf, koresh, fbi, fire, warrant",
          "<b>Topic 4</b><br>Words: dscgeminigsfcnasagov, caprette, lanham, stx, agentthe",
          "<b>Topic 4</b><br>Words: compound, prophet, claimed, koresh, tear",
          "<b>Topic 4</b><br>Words: fbi, batf, fire, koresh, compound",
          "<b>Topic 4</b><br>Words: projectile, gun, chamber, barrel, gas",
          "<b>Topic 4</b><br>Words: batf, kindling, warrant, r12, concussion",
          "<b>Topic 4</b><br>Words: koresh, wp50, sequel, finished, david",
          "<b>Topic 4</b><br>Words: fbigov, incitement, bureau, investigation, murder",
          "<b>Topic 4</b><br>Words: koresh, fbi, fire, batf, compound"
         ],
         "marker": {
          "color": "#D55E00"
         },
         "name": "4_fbi_batf_fire_koresh",
         "orientation": "h",
         "type": "bar",
         "visible": "legendonly",
         "x": [
          5,
          2,
          54,
          1,
          2,
          203,
          2,
          3,
          9,
          1,
          50
         ],
         "y": [
          "sci.electronics",
          "rec.motorcycles",
          "talk.politics.misc",
          "sci.med",
          "soc.religion.christian",
          "talk.politics.guns",
          "sci.space",
          "rec.autos",
          "alt.atheism",
          "talk.politics.mideast",
          "talk.religion.misc"
         ]
        },
        {
         "hoverinfo": "text",
         "hovertext": [
          "<b>Topic 5</b><br>Words: csa, shorts, ul, paranoid, caps",
          "<b>Topic 5</b><br>Words: 78, car, quiet, yoshimura, sheild",
          "<b>Topic 5</b><br>Words: horsepower, xa, full, measurement, motion",
          "<b>Topic 5</b><br>Words: mile, structure, column, height, tower",
          "<b>Topic 5</b><br>Words: bulgaria, vesselin, embargo, controls, plenty",
          "<b>Topic 5</b><br>Words: car, cars, engine, ford, mustang",
          "<b>Topic 5</b><br>Words: car, miles, amfm, condition, interior"
         ],
         "marker": {
          "color": "#0072B2"
         },
         "name": "5_car_cars_engine_ford",
         "orientation": "h",
         "type": "bar",
         "visible": "legendonly",
         "x": [
          1,
          8,
          1,
          4,
          1,
          255,
          37
         ],
         "y": [
          "sci.electronics",
          "rec.motorcycles",
          "comp.graphics",
          "sci.space",
          "sci.crypt",
          "rec.autos",
          "misc.forsale"
         ]
        },
        {
         "hoverinfo": "text",
         "hovertext": [
          "<b>Topic 6</b><br>Words: flame, weaknesses, disparagement, owners, trite",
          "<b>Topic 6</b><br>Words: sexium, lars, madonna, archer, replied",
          "<b>Topic 6</b><br>Words: ted, teel, frank, 0600, sysadmin",
          "<b>Topic 6</b><br>Words: sanity, prevail, wasted, bandwidth, silly",
          "<b>Topic 6</b><br>Words: adept, meme, steve, youre, flame",
          "<b>Topic 6</b><br>Words: roger, moderated, say, smileys, yourself",
          "<b>Topic 6</b><br>Words: qualms, someone, post, contriversy, deluging",
          "<b>Topic 6</b><br>Words: freeman, fr, satura, awesley, sarcasm",
          "<b>Topic 6</b><br>Words: smiley, joke, karla, kuiper, arbitron",
          "<b>Topic 6</b><br>Words: knepper, bolick, frank, postema, newsgroup",
          "<b>Topic 6</b><br>Words: include, wittysaying, fancypseudographics, standarddisclaimer, salmon",
          "<b>Topic 6</b><br>Words: putz, immature, flame, sternlight, assertions",
          "<b>Topic 6</b><br>Words: bored, incredibly, hahahahahahahahahahaha, laughed, considered",
          "<b>Topic 6</b><br>Words: eh, simple, ted, post, you",
          "<b>Topic 6</b><br>Words: bobby, maddi, nicknames, post, humor",
          "<b>Topic 6</b><br>Words: you, human, rights, your, posts",
          "<b>Topic 6</b><br>Words: kaflowitz, post, serious, dean, violation"
         ],
         "marker": {
          "color": "#CC79A7"
         },
         "name": "6_ted_post_you_frank",
         "orientation": "h",
         "type": "bar",
         "visible": "legendonly",
         "x": [
          16,
          5,
          9,
          2,
          9,
          19,
          4,
          13,
          16,
          13,
          3,
          9,
          5,
          1,
          29,
          29,
          13
         ],
         "y": [
          "rec.motorcycles",
          "comp.graphics",
          "talk.politics.misc",
          "comp.os.ms-windows.misc",
          "sci.med",
          "rec.sport.hockey",
          "soc.religion.christian",
          "talk.politics.guns",
          "sci.space",
          "rec.sport.baseball",
          "comp.windows.x",
          "sci.crypt",
          "rec.autos",
          "misc.forsale",
          "alt.atheism",
          "talk.politics.mideast",
          "talk.religion.misc"
         ]
        },
        {
         "hoverinfo": "text",
         "hovertext": [
          "<b>Topic 7</b><br>Words: sometimes, bugs, dogfight, client, fixing",
          "<b>Topic 7</b><br>Words: gcc, libc, bad, ram, kernel",
          "<b>Topic 7</b><br>Words: const, hashentry, virtual, hwindow, void",
          "<b>Topic 7</b><br>Words: xterm, x11r5, server, error, echo",
          "<b>Topic 7</b><br>Words: scand, trinomials, math, irreducibility, tverbergh",
          "<b>Topic 7</b><br>Words: gcc, 18002311570, 6172755800, tech, handy"
         ],
         "marker": {
          "color": "#E69F00"
         },
         "name": "7_xterm_server_x11r5_error",
         "orientation": "h",
         "type": "bar",
         "visible": "legendonly",
         "x": [
          5,
          1,
          5,
          178,
          1,
          2
         ],
         "y": [
          "comp.graphics",
          "comp.sys.ibm.pc.hardware",
          "comp.os.ms-windows.misc",
          "comp.windows.x",
          "sci.crypt",
          "comp.sys.mac.hardware"
         ]
        },
        {
         "hoverinfo": "text",
         "hovertext": [
          "<b>Topic 8</b><br>Words: jpeg, image, gif, format, images",
          "<b>Topic 8</b><br>Words: melbourne, interleaves, 2476v, ph036603243, mgregoryrmiteduau",
          "<b>Topic 8</b><br>Words: image, jpeg, file, images, gif",
          "<b>Topic 8</b><br>Words: nihimage, compressed, nssdc, images, display",
          "<b>Topic 8</b><br>Words: gif, format, files, convert, jpeg",
          "<b>Topic 8</b><br>Words: code, jpeg, dw31, modula, available"
         ],
         "marker": {
          "color": "#56B4E9"
         },
         "name": "8_jpeg_image_gif_format",
         "orientation": "h",
         "type": "bar",
         "visible": "legendonly",
         "x": [
          144,
          2,
          25,
          2,
          14,
          3
         ],
         "y": [
          "comp.graphics",
          "comp.sys.ibm.pc.hardware",
          "comp.os.ms-windows.misc",
          "sci.space",
          "comp.windows.x",
          "comp.sys.mac.hardware"
         ]
        },
        {
         "hoverinfo": "text",
         "hovertext": [
          "<b>Topic 9</b><br>Words: religious, religions, religion, beliefs, arguments",
          "<b>Topic 9</b><br>Words: agnostic, god, believe, selfproclaimed, atheist",
          "<b>Topic 9</b><br>Words: god, atheists, faith, atheism, atheist",
          "<b>Topic 9</b><br>Words: fanaticism, religious, atheists, god, atheism",
          "<b>Topic 9</b><br>Words: battlefield, defeats, warrior, enemy, smartest",
          "<b>Topic 9</b><br>Words: spectacle, fervour, cr, believers, religious",
          "<b>Topic 9</b><br>Words: logicon, n76234, dsnyderfalconaamrlwpafbafmil, owneroperator, 5132555165",
          "<b>Topic 9</b><br>Words: atheists, atheism, god, atheist, belief",
          "<b>Topic 9</b><br>Words: taoism, atheists, god, misctaoism, atheist"
         ],
         "marker": {
          "color": "#009E73"
         },
         "name": "9_atheists_god_atheism_atheist",
         "orientation": "h",
         "type": "bar",
         "visible": "legendonly",
         "x": [
          3,
          4,
          36,
          1,
          1,
          1,
          2,
          101,
          9
         ],
         "y": [
          "talk.politics.misc",
          "sci.med",
          "soc.religion.christian",
          "talk.politics.guns",
          "sci.crypt",
          "rec.autos",
          "misc.forsale",
          "alt.atheism",
          "talk.religion.misc"
         ]
        }
       ],
       "layout": {
        "height": 900,
        "hoverlabel": {
         "bgcolor": "white",
         "font": {
          "family": "Rockwell",
          "size": 16
         }
        },
        "legend": {
         "title": {
          "text": "<b>Global Topic Representation"
         }
        },
        "template": {
         "data": {
          "bar": [
           {
            "error_x": {
             "color": "rgb(36,36,36)"
            },
            "error_y": {
             "color": "rgb(36,36,36)"
            },
            "marker": {
             "line": {
              "color": "white",
              "width": 0.5
             },
             "pattern": {
              "fillmode": "overlay",
              "size": 10,
              "solidity": 0.2
             }
            },
            "type": "bar"
           }
          ],
          "barpolar": [
           {
            "marker": {
             "line": {
              "color": "white",
              "width": 0.5
             },
             "pattern": {
              "fillmode": "overlay",
              "size": 10,
              "solidity": 0.2
             }
            },
            "type": "barpolar"
           }
          ],
          "carpet": [
           {
            "aaxis": {
             "endlinecolor": "rgb(36,36,36)",
             "gridcolor": "white",
             "linecolor": "white",
             "minorgridcolor": "white",
             "startlinecolor": "rgb(36,36,36)"
            },
            "baxis": {
             "endlinecolor": "rgb(36,36,36)",
             "gridcolor": "white",
             "linecolor": "white",
             "minorgridcolor": "white",
             "startlinecolor": "rgb(36,36,36)"
            },
            "type": "carpet"
           }
          ],
          "choropleth": [
           {
            "colorbar": {
             "outlinewidth": 1,
             "tickcolor": "rgb(36,36,36)",
             "ticks": "outside"
            },
            "type": "choropleth"
           }
          ],
          "contour": [
           {
            "colorbar": {
             "outlinewidth": 1,
             "tickcolor": "rgb(36,36,36)",
             "ticks": "outside"
            },
            "colorscale": [
             [
              0,
              "#440154"
             ],
             [
              0.1111111111111111,
              "#482878"
             ],
             [
              0.2222222222222222,
              "#3e4989"
             ],
             [
              0.3333333333333333,
              "#31688e"
             ],
             [
              0.4444444444444444,
              "#26828e"
             ],
             [
              0.5555555555555556,
              "#1f9e89"
             ],
             [
              0.6666666666666666,
              "#35b779"
             ],
             [
              0.7777777777777778,
              "#6ece58"
             ],
             [
              0.8888888888888888,
              "#b5de2b"
             ],
             [
              1,
              "#fde725"
             ]
            ],
            "type": "contour"
           }
          ],
          "contourcarpet": [
           {
            "colorbar": {
             "outlinewidth": 1,
             "tickcolor": "rgb(36,36,36)",
             "ticks": "outside"
            },
            "type": "contourcarpet"
           }
          ],
          "heatmap": [
           {
            "colorbar": {
             "outlinewidth": 1,
             "tickcolor": "rgb(36,36,36)",
             "ticks": "outside"
            },
            "colorscale": [
             [
              0,
              "#440154"
             ],
             [
              0.1111111111111111,
              "#482878"
             ],
             [
              0.2222222222222222,
              "#3e4989"
             ],
             [
              0.3333333333333333,
              "#31688e"
             ],
             [
              0.4444444444444444,
              "#26828e"
             ],
             [
              0.5555555555555556,
              "#1f9e89"
             ],
             [
              0.6666666666666666,
              "#35b779"
             ],
             [
              0.7777777777777778,
              "#6ece58"
             ],
             [
              0.8888888888888888,
              "#b5de2b"
             ],
             [
              1,
              "#fde725"
             ]
            ],
            "type": "heatmap"
           }
          ],
          "heatmapgl": [
           {
            "colorbar": {
             "outlinewidth": 1,
             "tickcolor": "rgb(36,36,36)",
             "ticks": "outside"
            },
            "colorscale": [
             [
              0,
              "#440154"
             ],
             [
              0.1111111111111111,
              "#482878"
             ],
             [
              0.2222222222222222,
              "#3e4989"
             ],
             [
              0.3333333333333333,
              "#31688e"
             ],
             [
              0.4444444444444444,
              "#26828e"
             ],
             [
              0.5555555555555556,
              "#1f9e89"
             ],
             [
              0.6666666666666666,
              "#35b779"
             ],
             [
              0.7777777777777778,
              "#6ece58"
             ],
             [
              0.8888888888888888,
              "#b5de2b"
             ],
             [
              1,
              "#fde725"
             ]
            ],
            "type": "heatmapgl"
           }
          ],
          "histogram": [
           {
            "marker": {
             "line": {
              "color": "white",
              "width": 0.6
             }
            },
            "type": "histogram"
           }
          ],
          "histogram2d": [
           {
            "colorbar": {
             "outlinewidth": 1,
             "tickcolor": "rgb(36,36,36)",
             "ticks": "outside"
            },
            "colorscale": [
             [
              0,
              "#440154"
             ],
             [
              0.1111111111111111,
              "#482878"
             ],
             [
              0.2222222222222222,
              "#3e4989"
             ],
             [
              0.3333333333333333,
              "#31688e"
             ],
             [
              0.4444444444444444,
              "#26828e"
             ],
             [
              0.5555555555555556,
              "#1f9e89"
             ],
             [
              0.6666666666666666,
              "#35b779"
             ],
             [
              0.7777777777777778,
              "#6ece58"
             ],
             [
              0.8888888888888888,
              "#b5de2b"
             ],
             [
              1,
              "#fde725"
             ]
            ],
            "type": "histogram2d"
           }
          ],
          "histogram2dcontour": [
           {
            "colorbar": {
             "outlinewidth": 1,
             "tickcolor": "rgb(36,36,36)",
             "ticks": "outside"
            },
            "colorscale": [
             [
              0,
              "#440154"
             ],
             [
              0.1111111111111111,
              "#482878"
             ],
             [
              0.2222222222222222,
              "#3e4989"
             ],
             [
              0.3333333333333333,
              "#31688e"
             ],
             [
              0.4444444444444444,
              "#26828e"
             ],
             [
              0.5555555555555556,
              "#1f9e89"
             ],
             [
              0.6666666666666666,
              "#35b779"
             ],
             [
              0.7777777777777778,
              "#6ece58"
             ],
             [
              0.8888888888888888,
              "#b5de2b"
             ],
             [
              1,
              "#fde725"
             ]
            ],
            "type": "histogram2dcontour"
           }
          ],
          "mesh3d": [
           {
            "colorbar": {
             "outlinewidth": 1,
             "tickcolor": "rgb(36,36,36)",
             "ticks": "outside"
            },
            "type": "mesh3d"
           }
          ],
          "parcoords": [
           {
            "line": {
             "colorbar": {
              "outlinewidth": 1,
              "tickcolor": "rgb(36,36,36)",
              "ticks": "outside"
             }
            },
            "type": "parcoords"
           }
          ],
          "pie": [
           {
            "automargin": true,
            "type": "pie"
           }
          ],
          "scatter": [
           {
            "fillpattern": {
             "fillmode": "overlay",
             "size": 10,
             "solidity": 0.2
            },
            "type": "scatter"
           }
          ],
          "scatter3d": [
           {
            "line": {
             "colorbar": {
              "outlinewidth": 1,
              "tickcolor": "rgb(36,36,36)",
              "ticks": "outside"
             }
            },
            "marker": {
             "colorbar": {
              "outlinewidth": 1,
              "tickcolor": "rgb(36,36,36)",
              "ticks": "outside"
             }
            },
            "type": "scatter3d"
           }
          ],
          "scattercarpet": [
           {
            "marker": {
             "colorbar": {
              "outlinewidth": 1,
              "tickcolor": "rgb(36,36,36)",
              "ticks": "outside"
             }
            },
            "type": "scattercarpet"
           }
          ],
          "scattergeo": [
           {
            "marker": {
             "colorbar": {
              "outlinewidth": 1,
              "tickcolor": "rgb(36,36,36)",
              "ticks": "outside"
             }
            },
            "type": "scattergeo"
           }
          ],
          "scattergl": [
           {
            "marker": {
             "colorbar": {
              "outlinewidth": 1,
              "tickcolor": "rgb(36,36,36)",
              "ticks": "outside"
             }
            },
            "type": "scattergl"
           }
          ],
          "scattermapbox": [
           {
            "marker": {
             "colorbar": {
              "outlinewidth": 1,
              "tickcolor": "rgb(36,36,36)",
              "ticks": "outside"
             }
            },
            "type": "scattermapbox"
           }
          ],
          "scatterpolar": [
           {
            "marker": {
             "colorbar": {
              "outlinewidth": 1,
              "tickcolor": "rgb(36,36,36)",
              "ticks": "outside"
             }
            },
            "type": "scatterpolar"
           }
          ],
          "scatterpolargl": [
           {
            "marker": {
             "colorbar": {
              "outlinewidth": 1,
              "tickcolor": "rgb(36,36,36)",
              "ticks": "outside"
             }
            },
            "type": "scatterpolargl"
           }
          ],
          "scatterternary": [
           {
            "marker": {
             "colorbar": {
              "outlinewidth": 1,
              "tickcolor": "rgb(36,36,36)",
              "ticks": "outside"
             }
            },
            "type": "scatterternary"
           }
          ],
          "surface": [
           {
            "colorbar": {
             "outlinewidth": 1,
             "tickcolor": "rgb(36,36,36)",
             "ticks": "outside"
            },
            "colorscale": [
             [
              0,
              "#440154"
             ],
             [
              0.1111111111111111,
              "#482878"
             ],
             [
              0.2222222222222222,
              "#3e4989"
             ],
             [
              0.3333333333333333,
              "#31688e"
             ],
             [
              0.4444444444444444,
              "#26828e"
             ],
             [
              0.5555555555555556,
              "#1f9e89"
             ],
             [
              0.6666666666666666,
              "#35b779"
             ],
             [
              0.7777777777777778,
              "#6ece58"
             ],
             [
              0.8888888888888888,
              "#b5de2b"
             ],
             [
              1,
              "#fde725"
             ]
            ],
            "type": "surface"
           }
          ],
          "table": [
           {
            "cells": {
             "fill": {
              "color": "rgb(237,237,237)"
             },
             "line": {
              "color": "white"
             }
            },
            "header": {
             "fill": {
              "color": "rgb(217,217,217)"
             },
             "line": {
              "color": "white"
             }
            },
            "type": "table"
           }
          ]
         },
         "layout": {
          "annotationdefaults": {
           "arrowhead": 0,
           "arrowwidth": 1
          },
          "autotypenumbers": "strict",
          "coloraxis": {
           "colorbar": {
            "outlinewidth": 1,
            "tickcolor": "rgb(36,36,36)",
            "ticks": "outside"
           }
          },
          "colorscale": {
           "diverging": [
            [
             0,
             "rgb(103,0,31)"
            ],
            [
             0.1,
             "rgb(178,24,43)"
            ],
            [
             0.2,
             "rgb(214,96,77)"
            ],
            [
             0.3,
             "rgb(244,165,130)"
            ],
            [
             0.4,
             "rgb(253,219,199)"
            ],
            [
             0.5,
             "rgb(247,247,247)"
            ],
            [
             0.6,
             "rgb(209,229,240)"
            ],
            [
             0.7,
             "rgb(146,197,222)"
            ],
            [
             0.8,
             "rgb(67,147,195)"
            ],
            [
             0.9,
             "rgb(33,102,172)"
            ],
            [
             1,
             "rgb(5,48,97)"
            ]
           ],
           "sequential": [
            [
             0,
             "#440154"
            ],
            [
             0.1111111111111111,
             "#482878"
            ],
            [
             0.2222222222222222,
             "#3e4989"
            ],
            [
             0.3333333333333333,
             "#31688e"
            ],
            [
             0.4444444444444444,
             "#26828e"
            ],
            [
             0.5555555555555556,
             "#1f9e89"
            ],
            [
             0.6666666666666666,
             "#35b779"
            ],
            [
             0.7777777777777778,
             "#6ece58"
            ],
            [
             0.8888888888888888,
             "#b5de2b"
            ],
            [
             1,
             "#fde725"
            ]
           ],
           "sequentialminus": [
            [
             0,
             "#440154"
            ],
            [
             0.1111111111111111,
             "#482878"
            ],
            [
             0.2222222222222222,
             "#3e4989"
            ],
            [
             0.3333333333333333,
             "#31688e"
            ],
            [
             0.4444444444444444,
             "#26828e"
            ],
            [
             0.5555555555555556,
             "#1f9e89"
            ],
            [
             0.6666666666666666,
             "#35b779"
            ],
            [
             0.7777777777777778,
             "#6ece58"
            ],
            [
             0.8888888888888888,
             "#b5de2b"
            ],
            [
             1,
             "#fde725"
            ]
           ]
          },
          "colorway": [
           "#1F77B4",
           "#FF7F0E",
           "#2CA02C",
           "#D62728",
           "#9467BD",
           "#8C564B",
           "#E377C2",
           "#7F7F7F",
           "#BCBD22",
           "#17BECF"
          ],
          "font": {
           "color": "rgb(36,36,36)"
          },
          "geo": {
           "bgcolor": "white",
           "lakecolor": "white",
           "landcolor": "white",
           "showlakes": true,
           "showland": true,
           "subunitcolor": "white"
          },
          "hoverlabel": {
           "align": "left"
          },
          "hovermode": "closest",
          "mapbox": {
           "style": "light"
          },
          "paper_bgcolor": "white",
          "plot_bgcolor": "white",
          "polar": {
           "angularaxis": {
            "gridcolor": "rgb(232,232,232)",
            "linecolor": "rgb(36,36,36)",
            "showgrid": false,
            "showline": true,
            "ticks": "outside"
           },
           "bgcolor": "white",
           "radialaxis": {
            "gridcolor": "rgb(232,232,232)",
            "linecolor": "rgb(36,36,36)",
            "showgrid": false,
            "showline": true,
            "ticks": "outside"
           }
          },
          "scene": {
           "xaxis": {
            "backgroundcolor": "white",
            "gridcolor": "rgb(232,232,232)",
            "gridwidth": 2,
            "linecolor": "rgb(36,36,36)",
            "showbackground": true,
            "showgrid": false,
            "showline": true,
            "ticks": "outside",
            "zeroline": false,
            "zerolinecolor": "rgb(36,36,36)"
           },
           "yaxis": {
            "backgroundcolor": "white",
            "gridcolor": "rgb(232,232,232)",
            "gridwidth": 2,
            "linecolor": "rgb(36,36,36)",
            "showbackground": true,
            "showgrid": false,
            "showline": true,
            "ticks": "outside",
            "zeroline": false,
            "zerolinecolor": "rgb(36,36,36)"
           },
           "zaxis": {
            "backgroundcolor": "white",
            "gridcolor": "rgb(232,232,232)",
            "gridwidth": 2,
            "linecolor": "rgb(36,36,36)",
            "showbackground": true,
            "showgrid": false,
            "showline": true,
            "ticks": "outside",
            "zeroline": false,
            "zerolinecolor": "rgb(36,36,36)"
           }
          },
          "shapedefaults": {
           "fillcolor": "black",
           "line": {
            "width": 0
           },
           "opacity": 0.3
          },
          "ternary": {
           "aaxis": {
            "gridcolor": "rgb(232,232,232)",
            "linecolor": "rgb(36,36,36)",
            "showgrid": false,
            "showline": true,
            "ticks": "outside"
           },
           "baxis": {
            "gridcolor": "rgb(232,232,232)",
            "linecolor": "rgb(36,36,36)",
            "showgrid": false,
            "showline": true,
            "ticks": "outside"
           },
           "bgcolor": "white",
           "caxis": {
            "gridcolor": "rgb(232,232,232)",
            "linecolor": "rgb(36,36,36)",
            "showgrid": false,
            "showline": true,
            "ticks": "outside"
           }
          },
          "title": {
           "x": 0.05
          },
          "xaxis": {
           "automargin": true,
           "gridcolor": "rgb(232,232,232)",
           "linecolor": "rgb(36,36,36)",
           "showgrid": false,
           "showline": true,
           "ticks": "outside",
           "title": {
            "standoff": 15
           },
           "zeroline": false,
           "zerolinecolor": "rgb(36,36,36)"
          },
          "yaxis": {
           "automargin": true,
           "gridcolor": "rgb(232,232,232)",
           "linecolor": "rgb(36,36,36)",
           "showgrid": false,
           "showline": true,
           "ticks": "outside",
           "title": {
            "standoff": 15
           },
           "zeroline": false,
           "zerolinecolor": "rgb(36,36,36)"
          }
         }
        },
        "title": {
         "font": {
          "color": "Black",
          "size": 22
         },
         "text": "<b>Topics per Class</b>",
         "x": 0.4,
         "xanchor": "center",
         "y": 0.95,
         "yanchor": "top"
        },
        "width": 800,
        "xaxis": {
         "showgrid": true,
         "title": {
          "text": "Frequency"
         }
        },
        "yaxis": {
         "showgrid": true,
         "title": {
          "text": "Class"
         }
        }
       }
      }
     },
     "metadata": {},
     "output_type": "display_data"
    }
   ],
   "source": [
    "topic_model.visualize_topics_per_class(topics_per_class, top_n_topics=10, width=800)"
   ]
  },
  {
   "cell_type": "code",
   "execution_count": null,
   "metadata": {},
   "outputs": [],
   "source": []
  }
 ],
 "metadata": {
  "kernelspec": {
   "display_name": "tfnew",
   "language": "python",
   "name": "python3"
  },
  "language_info": {
   "codemirror_mode": {
    "name": "ipython",
    "version": 3
   },
   "file_extension": ".py",
   "mimetype": "text/x-python",
   "name": "python",
   "nbconvert_exporter": "python",
   "pygments_lexer": "ipython3",
   "version": "3.9.13"
  },
  "orig_nbformat": 4
 },
 "nbformat": 4,
 "nbformat_minor": 2
}
