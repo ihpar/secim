{
 "cells": [
  {
   "cell_type": "code",
   "execution_count": 1,
   "metadata": {},
   "outputs": [],
   "source": [
    "import json"
   ]
  },
  {
   "cell_type": "code",
   "execution_count": 5,
   "metadata": {},
   "outputs": [],
   "source": [
    "prev_tweets, second_tweets = None, None\n",
    "\n",
    "with open(f\"data/tweets_first.json\", \"r\") as in_file:\n",
    "    prev_tweets = json.load(in_file)\n",
    "\n",
    "with open(f\"data/tweets_second.json\", \"r\") as in_file:\n",
    "    second_tweets = json.load(in_file)\n",
    "\n",
    "tweet_ids = set()\n",
    "merged_tweets = {}\n",
    "\n",
    "for aday, tweets in prev_tweets.items():\n",
    "    if aday not in merged_tweets:\n",
    "        merged_tweets[aday] = []\n",
    "\n",
    "    for tweet in tweets:\n",
    "        if tweet[\"id\"] not in tweet_ids:\n",
    "            merged_tweets[aday].append(tweet)\n",
    "            tweet_ids.add(tweet[\"id\"])\n",
    "\n",
    "for aday, tweets in second_tweets.items():\n",
    "    for tweet in tweets:\n",
    "        if tweet[\"id\"] not in tweet_ids:\n",
    "            merged_tweets[aday].append(tweet)\n",
    "            tweet_ids.add(tweet[\"id\"])\n",
    "\n",
    "for aday, tweets in merged_tweets.items():\n",
    "    merged_tweets[aday] = sorted(tweets, key=lambda t: t[\"date\"])\n",
    "\n",
    "with open(f\"data/tweets_merged.json\", \"w\") as out_file:\n",
    "    json.dump(merged_tweets, out_file, indent=2, ensure_ascii=False)"
   ]
  },
  {
   "cell_type": "code",
   "execution_count": null,
   "metadata": {},
   "outputs": [],
   "source": []
  }
 ],
 "metadata": {
  "kernelspec": {
   "display_name": "tfnew",
   "language": "python",
   "name": "python3"
  },
  "language_info": {
   "codemirror_mode": {
    "name": "ipython",
    "version": 3
   },
   "file_extension": ".py",
   "mimetype": "text/x-python",
   "name": "python",
   "nbconvert_exporter": "python",
   "pygments_lexer": "ipython3",
   "version": "3.9.16"
  },
  "orig_nbformat": 4
 },
 "nbformat": 4,
 "nbformat_minor": 2
}
